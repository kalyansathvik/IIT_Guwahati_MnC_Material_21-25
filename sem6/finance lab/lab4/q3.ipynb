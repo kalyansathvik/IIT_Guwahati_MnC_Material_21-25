{
  "nbformat": 4,
  "nbformat_minor": 0,
  "metadata": {
    "colab": {
      "provenance": []
    },
    "kernelspec": {
      "name": "python3",
      "display_name": "Python 3"
    },
    "language_info": {
      "name": "python"
    }
  },
  "cells": [
    {
      "cell_type": "code",
      "source": [
        "import matplotlib.pyplot as plt\n",
        "import numpy as np\n",
        "import pandas as pd\n",
        "import yfinance as yf"
      ],
      "metadata": {
        "id": "UK2L4ooe2zBe"
      },
      "execution_count": 88,
      "outputs": []
    },
    {
      "cell_type": "code",
      "execution_count": 89,
      "metadata": {
        "id": "jsPBuLf11Cqh"
      },
      "outputs": [],
      "source": [
        "symbols = ['AAPL', 'GOOGL', 'MSFT', 'AMZN', 'TSLA', 'PG', 'NFLX', 'IBM', 'NVDA', 'INTC']"
      ]
    },
    {
      "cell_type": "code",
      "source": [
        "start_date = \"2019-01-01\"\n",
        "end_date = \"2023-03-31\""
      ],
      "metadata": {
        "id": "nYj58_We3BYg"
      },
      "execution_count": 90,
      "outputs": []
    },
    {
      "cell_type": "code",
      "source": [
        "stock_data = yf.download(symbols, start=start_date, end=end_date)\n",
        "stock_data=stock_data['Open']\n",
        "stock_data.head()"
      ],
      "metadata": {
        "colab": {
          "base_uri": "https://localhost:8080/",
          "height": 255
        },
        "id": "Yic1GXX23Hz6",
        "outputId": "9c764b51-014b-4a27-836b-d602a90a519e"
      },
      "execution_count": 91,
      "outputs": [
        {
          "output_type": "stream",
          "name": "stderr",
          "text": [
            "[*********************100%%**********************]  10 of 10 completed\n"
          ]
        },
        {
          "output_type": "execute_result",
          "data": {
            "text/plain": [
              "Ticker           AAPL       AMZN      GOOGL         IBM       INTC  \\\n",
              "Date                                                                 \n",
              "2019-01-02  38.722500  73.260002  51.360001  107.084129  45.959999   \n",
              "2019-01-03  35.994999  76.000504  52.533501  109.493309  46.150002   \n",
              "2019-01-04  36.132500  76.500000  52.127998  109.856598  45.840000   \n",
              "2019-01-07  37.174999  80.115501  54.048500  112.332695  47.099998   \n",
              "2019-01-08  37.389999  83.234497  54.299999  114.397705  47.799999   \n",
              "\n",
              "Ticker            MSFT        NFLX       NVDA         PG       TSLA  \n",
              "Date                                                                 \n",
              "2019-01-02   99.550003  259.279999  32.660000  91.029999  20.406668  \n",
              "2019-01-03  100.099998  270.200012  33.447498  90.940002  20.466667  \n",
              "2019-01-04   99.720001  281.880005  32.735001  90.839996  20.400000  \n",
              "2019-01-07  101.639999  302.100006  34.625000  91.910004  21.448000  \n",
              "2019-01-08  103.040001  319.980011  36.672501  92.699997  22.797333  "
            ],
            "text/html": [
              "\n",
              "  <div id=\"df-7f1c162f-0c87-49a4-bad3-967577d1532d\" class=\"colab-df-container\">\n",
              "    <div>\n",
              "<style scoped>\n",
              "    .dataframe tbody tr th:only-of-type {\n",
              "        vertical-align: middle;\n",
              "    }\n",
              "\n",
              "    .dataframe tbody tr th {\n",
              "        vertical-align: top;\n",
              "    }\n",
              "\n",
              "    .dataframe thead th {\n",
              "        text-align: right;\n",
              "    }\n",
              "</style>\n",
              "<table border=\"1\" class=\"dataframe\">\n",
              "  <thead>\n",
              "    <tr style=\"text-align: right;\">\n",
              "      <th>Ticker</th>\n",
              "      <th>AAPL</th>\n",
              "      <th>AMZN</th>\n",
              "      <th>GOOGL</th>\n",
              "      <th>IBM</th>\n",
              "      <th>INTC</th>\n",
              "      <th>MSFT</th>\n",
              "      <th>NFLX</th>\n",
              "      <th>NVDA</th>\n",
              "      <th>PG</th>\n",
              "      <th>TSLA</th>\n",
              "    </tr>\n",
              "    <tr>\n",
              "      <th>Date</th>\n",
              "      <th></th>\n",
              "      <th></th>\n",
              "      <th></th>\n",
              "      <th></th>\n",
              "      <th></th>\n",
              "      <th></th>\n",
              "      <th></th>\n",
              "      <th></th>\n",
              "      <th></th>\n",
              "      <th></th>\n",
              "    </tr>\n",
              "  </thead>\n",
              "  <tbody>\n",
              "    <tr>\n",
              "      <th>2019-01-02</th>\n",
              "      <td>38.722500</td>\n",
              "      <td>73.260002</td>\n",
              "      <td>51.360001</td>\n",
              "      <td>107.084129</td>\n",
              "      <td>45.959999</td>\n",
              "      <td>99.550003</td>\n",
              "      <td>259.279999</td>\n",
              "      <td>32.660000</td>\n",
              "      <td>91.029999</td>\n",
              "      <td>20.406668</td>\n",
              "    </tr>\n",
              "    <tr>\n",
              "      <th>2019-01-03</th>\n",
              "      <td>35.994999</td>\n",
              "      <td>76.000504</td>\n",
              "      <td>52.533501</td>\n",
              "      <td>109.493309</td>\n",
              "      <td>46.150002</td>\n",
              "      <td>100.099998</td>\n",
              "      <td>270.200012</td>\n",
              "      <td>33.447498</td>\n",
              "      <td>90.940002</td>\n",
              "      <td>20.466667</td>\n",
              "    </tr>\n",
              "    <tr>\n",
              "      <th>2019-01-04</th>\n",
              "      <td>36.132500</td>\n",
              "      <td>76.500000</td>\n",
              "      <td>52.127998</td>\n",
              "      <td>109.856598</td>\n",
              "      <td>45.840000</td>\n",
              "      <td>99.720001</td>\n",
              "      <td>281.880005</td>\n",
              "      <td>32.735001</td>\n",
              "      <td>90.839996</td>\n",
              "      <td>20.400000</td>\n",
              "    </tr>\n",
              "    <tr>\n",
              "      <th>2019-01-07</th>\n",
              "      <td>37.174999</td>\n",
              "      <td>80.115501</td>\n",
              "      <td>54.048500</td>\n",
              "      <td>112.332695</td>\n",
              "      <td>47.099998</td>\n",
              "      <td>101.639999</td>\n",
              "      <td>302.100006</td>\n",
              "      <td>34.625000</td>\n",
              "      <td>91.910004</td>\n",
              "      <td>21.448000</td>\n",
              "    </tr>\n",
              "    <tr>\n",
              "      <th>2019-01-08</th>\n",
              "      <td>37.389999</td>\n",
              "      <td>83.234497</td>\n",
              "      <td>54.299999</td>\n",
              "      <td>114.397705</td>\n",
              "      <td>47.799999</td>\n",
              "      <td>103.040001</td>\n",
              "      <td>319.980011</td>\n",
              "      <td>36.672501</td>\n",
              "      <td>92.699997</td>\n",
              "      <td>22.797333</td>\n",
              "    </tr>\n",
              "  </tbody>\n",
              "</table>\n",
              "</div>\n",
              "    <div class=\"colab-df-buttons\">\n",
              "\n",
              "  <div class=\"colab-df-container\">\n",
              "    <button class=\"colab-df-convert\" onclick=\"convertToInteractive('df-7f1c162f-0c87-49a4-bad3-967577d1532d')\"\n",
              "            title=\"Convert this dataframe to an interactive table.\"\n",
              "            style=\"display:none;\">\n",
              "\n",
              "  <svg xmlns=\"http://www.w3.org/2000/svg\" height=\"24px\" viewBox=\"0 -960 960 960\">\n",
              "    <path d=\"M120-120v-720h720v720H120Zm60-500h600v-160H180v160Zm220 220h160v-160H400v160Zm0 220h160v-160H400v160ZM180-400h160v-160H180v160Zm440 0h160v-160H620v160ZM180-180h160v-160H180v160Zm440 0h160v-160H620v160Z\"/>\n",
              "  </svg>\n",
              "    </button>\n",
              "\n",
              "  <style>\n",
              "    .colab-df-container {\n",
              "      display:flex;\n",
              "      gap: 12px;\n",
              "    }\n",
              "\n",
              "    .colab-df-convert {\n",
              "      background-color: #E8F0FE;\n",
              "      border: none;\n",
              "      border-radius: 50%;\n",
              "      cursor: pointer;\n",
              "      display: none;\n",
              "      fill: #1967D2;\n",
              "      height: 32px;\n",
              "      padding: 0 0 0 0;\n",
              "      width: 32px;\n",
              "    }\n",
              "\n",
              "    .colab-df-convert:hover {\n",
              "      background-color: #E2EBFA;\n",
              "      box-shadow: 0px 1px 2px rgba(60, 64, 67, 0.3), 0px 1px 3px 1px rgba(60, 64, 67, 0.15);\n",
              "      fill: #174EA6;\n",
              "    }\n",
              "\n",
              "    .colab-df-buttons div {\n",
              "      margin-bottom: 4px;\n",
              "    }\n",
              "\n",
              "    [theme=dark] .colab-df-convert {\n",
              "      background-color: #3B4455;\n",
              "      fill: #D2E3FC;\n",
              "    }\n",
              "\n",
              "    [theme=dark] .colab-df-convert:hover {\n",
              "      background-color: #434B5C;\n",
              "      box-shadow: 0px 1px 3px 1px rgba(0, 0, 0, 0.15);\n",
              "      filter: drop-shadow(0px 1px 2px rgba(0, 0, 0, 0.3));\n",
              "      fill: #FFFFFF;\n",
              "    }\n",
              "  </style>\n",
              "\n",
              "    <script>\n",
              "      const buttonEl =\n",
              "        document.querySelector('#df-7f1c162f-0c87-49a4-bad3-967577d1532d button.colab-df-convert');\n",
              "      buttonEl.style.display =\n",
              "        google.colab.kernel.accessAllowed ? 'block' : 'none';\n",
              "\n",
              "      async function convertToInteractive(key) {\n",
              "        const element = document.querySelector('#df-7f1c162f-0c87-49a4-bad3-967577d1532d');\n",
              "        const dataTable =\n",
              "          await google.colab.kernel.invokeFunction('convertToInteractive',\n",
              "                                                    [key], {});\n",
              "        if (!dataTable) return;\n",
              "\n",
              "        const docLinkHtml = 'Like what you see? Visit the ' +\n",
              "          '<a target=\"_blank\" href=https://colab.research.google.com/notebooks/data_table.ipynb>data table notebook</a>'\n",
              "          + ' to learn more about interactive tables.';\n",
              "        element.innerHTML = '';\n",
              "        dataTable['output_type'] = 'display_data';\n",
              "        await google.colab.output.renderOutput(dataTable, element);\n",
              "        const docLink = document.createElement('div');\n",
              "        docLink.innerHTML = docLinkHtml;\n",
              "        element.appendChild(docLink);\n",
              "      }\n",
              "    </script>\n",
              "  </div>\n",
              "\n",
              "\n",
              "<div id=\"df-67eae119-ccf4-4d4a-b4c4-d9db4697364a\">\n",
              "  <button class=\"colab-df-quickchart\" onclick=\"quickchart('df-67eae119-ccf4-4d4a-b4c4-d9db4697364a')\"\n",
              "            title=\"Suggest charts\"\n",
              "            style=\"display:none;\">\n",
              "\n",
              "<svg xmlns=\"http://www.w3.org/2000/svg\" height=\"24px\"viewBox=\"0 0 24 24\"\n",
              "     width=\"24px\">\n",
              "    <g>\n",
              "        <path d=\"M19 3H5c-1.1 0-2 .9-2 2v14c0 1.1.9 2 2 2h14c1.1 0 2-.9 2-2V5c0-1.1-.9-2-2-2zM9 17H7v-7h2v7zm4 0h-2V7h2v10zm4 0h-2v-4h2v4z\"/>\n",
              "    </g>\n",
              "</svg>\n",
              "  </button>\n",
              "\n",
              "<style>\n",
              "  .colab-df-quickchart {\n",
              "      --bg-color: #E8F0FE;\n",
              "      --fill-color: #1967D2;\n",
              "      --hover-bg-color: #E2EBFA;\n",
              "      --hover-fill-color: #174EA6;\n",
              "      --disabled-fill-color: #AAA;\n",
              "      --disabled-bg-color: #DDD;\n",
              "  }\n",
              "\n",
              "  [theme=dark] .colab-df-quickchart {\n",
              "      --bg-color: #3B4455;\n",
              "      --fill-color: #D2E3FC;\n",
              "      --hover-bg-color: #434B5C;\n",
              "      --hover-fill-color: #FFFFFF;\n",
              "      --disabled-bg-color: #3B4455;\n",
              "      --disabled-fill-color: #666;\n",
              "  }\n",
              "\n",
              "  .colab-df-quickchart {\n",
              "    background-color: var(--bg-color);\n",
              "    border: none;\n",
              "    border-radius: 50%;\n",
              "    cursor: pointer;\n",
              "    display: none;\n",
              "    fill: var(--fill-color);\n",
              "    height: 32px;\n",
              "    padding: 0;\n",
              "    width: 32px;\n",
              "  }\n",
              "\n",
              "  .colab-df-quickchart:hover {\n",
              "    background-color: var(--hover-bg-color);\n",
              "    box-shadow: 0 1px 2px rgba(60, 64, 67, 0.3), 0 1px 3px 1px rgba(60, 64, 67, 0.15);\n",
              "    fill: var(--button-hover-fill-color);\n",
              "  }\n",
              "\n",
              "  .colab-df-quickchart-complete:disabled,\n",
              "  .colab-df-quickchart-complete:disabled:hover {\n",
              "    background-color: var(--disabled-bg-color);\n",
              "    fill: var(--disabled-fill-color);\n",
              "    box-shadow: none;\n",
              "  }\n",
              "\n",
              "  .colab-df-spinner {\n",
              "    border: 2px solid var(--fill-color);\n",
              "    border-color: transparent;\n",
              "    border-bottom-color: var(--fill-color);\n",
              "    animation:\n",
              "      spin 1s steps(1) infinite;\n",
              "  }\n",
              "\n",
              "  @keyframes spin {\n",
              "    0% {\n",
              "      border-color: transparent;\n",
              "      border-bottom-color: var(--fill-color);\n",
              "      border-left-color: var(--fill-color);\n",
              "    }\n",
              "    20% {\n",
              "      border-color: transparent;\n",
              "      border-left-color: var(--fill-color);\n",
              "      border-top-color: var(--fill-color);\n",
              "    }\n",
              "    30% {\n",
              "      border-color: transparent;\n",
              "      border-left-color: var(--fill-color);\n",
              "      border-top-color: var(--fill-color);\n",
              "      border-right-color: var(--fill-color);\n",
              "    }\n",
              "    40% {\n",
              "      border-color: transparent;\n",
              "      border-right-color: var(--fill-color);\n",
              "      border-top-color: var(--fill-color);\n",
              "    }\n",
              "    60% {\n",
              "      border-color: transparent;\n",
              "      border-right-color: var(--fill-color);\n",
              "    }\n",
              "    80% {\n",
              "      border-color: transparent;\n",
              "      border-right-color: var(--fill-color);\n",
              "      border-bottom-color: var(--fill-color);\n",
              "    }\n",
              "    90% {\n",
              "      border-color: transparent;\n",
              "      border-bottom-color: var(--fill-color);\n",
              "    }\n",
              "  }\n",
              "</style>\n",
              "\n",
              "  <script>\n",
              "    async function quickchart(key) {\n",
              "      const quickchartButtonEl =\n",
              "        document.querySelector('#' + key + ' button');\n",
              "      quickchartButtonEl.disabled = true;  // To prevent multiple clicks.\n",
              "      quickchartButtonEl.classList.add('colab-df-spinner');\n",
              "      try {\n",
              "        const charts = await google.colab.kernel.invokeFunction(\n",
              "            'suggestCharts', [key], {});\n",
              "      } catch (error) {\n",
              "        console.error('Error during call to suggestCharts:', error);\n",
              "      }\n",
              "      quickchartButtonEl.classList.remove('colab-df-spinner');\n",
              "      quickchartButtonEl.classList.add('colab-df-quickchart-complete');\n",
              "    }\n",
              "    (() => {\n",
              "      let quickchartButtonEl =\n",
              "        document.querySelector('#df-67eae119-ccf4-4d4a-b4c4-d9db4697364a button');\n",
              "      quickchartButtonEl.style.display =\n",
              "        google.colab.kernel.accessAllowed ? 'block' : 'none';\n",
              "    })();\n",
              "  </script>\n",
              "</div>\n",
              "\n",
              "    </div>\n",
              "  </div>\n"
            ]
          },
          "metadata": {},
          "execution_count": 91
        }
      ]
    },
    {
      "cell_type": "code",
      "source": [
        "len(stock_data)"
      ],
      "metadata": {
        "colab": {
          "base_uri": "https://localhost:8080/"
        },
        "id": "DiV76faw4dy7",
        "outputId": "3ceca139-45f1-40df-9cdf-d752090ea6be"
      },
      "execution_count": 92,
      "outputs": [
        {
          "output_type": "execute_result",
          "data": {
            "text/plain": [
              "1069"
            ]
          },
          "metadata": {},
          "execution_count": 92
        }
      ]
    },
    {
      "cell_type": "code",
      "source": [
        "returns=(stock_data/stock_data.shift(-1000)-1)"
      ],
      "metadata": {
        "id": "43PGNsIeAhF7"
      },
      "execution_count": 93,
      "outputs": []
    },
    {
      "cell_type": "code",
      "source": [
        "returns=returns.head(60)"
      ],
      "metadata": {
        "id": "K6OdL7KUB42E"
      },
      "execution_count": 94,
      "outputs": []
    },
    {
      "cell_type": "code",
      "source": [
        "len(returns)"
      ],
      "metadata": {
        "colab": {
          "base_uri": "https://localhost:8080/"
        },
        "id": "EUgyZay_Cae4",
        "outputId": "ab2cfc1a-bfaf-4e04-a363-58b2f2f2e95c"
      },
      "execution_count": 95,
      "outputs": [
        {
          "output_type": "execute_result",
          "data": {
            "text/plain": [
              "60"
            ]
          },
          "metadata": {},
          "execution_count": 95
        }
      ]
    },
    {
      "cell_type": "code",
      "source": [
        "C=(np.array(returns.cov()))"
      ],
      "metadata": {
        "id": "3Ti2AOFQ-oH3"
      },
      "execution_count": 96,
      "outputs": []
    },
    {
      "cell_type": "code",
      "source": [
        "print(C)"
      ],
      "metadata": {
        "colab": {
          "base_uri": "https://localhost:8080/"
        },
        "id": "uSCxWLfi_gsi",
        "outputId": "5b37ca79-e837-4e2a-b32a-03f43bd22b0a"
      },
      "execution_count": 97,
      "outputs": [
        {
          "output_type": "stream",
          "name": "stdout",
          "text": [
            "[[ 1.39775494e-04  3.96416831e-04  2.49681895e-04  4.57965874e-04\n",
            "   6.33659911e-04  1.76495846e-04  7.26976947e-04  1.01800184e-06\n",
            "   1.91855753e-04 -2.86251776e-05]\n",
            " [ 3.96416831e-04  4.58306887e-03  1.72461991e-03 -1.33192304e-03\n",
            "   3.07754009e-03  9.04000298e-04  4.44162642e-03  1.14056008e-03\n",
            "  -1.18520082e-03  1.22392825e-03]\n",
            " [ 2.49681895e-04  1.72461991e-03  1.14965681e-03  7.90859363e-04\n",
            "   3.73978708e-03  5.16223196e-04  2.33071755e-03  4.76961659e-05\n",
            "   2.43969976e-04 -9.98082009e-05]\n",
            " [ 4.57965874e-04 -1.33192304e-03  7.90859363e-04  8.28559417e-03\n",
            "   9.27019002e-03  2.05626775e-04  3.19422636e-03 -2.03490729e-03\n",
            "   4.51296769e-03 -2.97940468e-03]\n",
            " [ 6.33659911e-04  3.07754009e-03  3.73978708e-03  9.27019002e-03\n",
            "   2.82419932e-02  8.11595088e-04  8.87650585e-03 -2.15254572e-03\n",
            "   5.15886293e-03 -3.62593424e-03]\n",
            " [ 1.76495846e-04  9.04000298e-04  5.16223196e-04  2.05626775e-04\n",
            "   8.11595088e-04  3.95239305e-04  1.13343301e-03  1.68086213e-04\n",
            "  -3.26775204e-05  1.36229690e-04]\n",
            " [ 7.26976947e-04  4.44162642e-03  2.33071755e-03  3.19422636e-03\n",
            "   8.87650585e-03  1.13343301e-03  8.08656963e-03  2.57820999e-04\n",
            "   1.10126205e-03 -1.52770180e-04]\n",
            " [ 1.01800184e-06  1.14056008e-03  4.76961659e-05 -2.03490729e-03\n",
            "  -2.15254572e-03  1.68086213e-04  2.57820999e-04  8.24809644e-04\n",
            "  -1.26126420e-03  1.00505317e-03]\n",
            " [ 1.91855753e-04 -1.18520082e-03  2.43969976e-04  4.51296769e-03\n",
            "   5.15886293e-03 -3.26775204e-05  1.10126205e-03 -1.26126420e-03\n",
            "   2.66660011e-03 -1.76813233e-03]\n",
            " [-2.86251776e-05  1.22392825e-03 -9.98082009e-05 -2.97940468e-03\n",
            "  -3.62593424e-03  1.36229690e-04 -1.52770180e-04  1.00505317e-03\n",
            "  -1.76813233e-03  1.41591732e-03]]\n"
          ]
        }
      ]
    },
    {
      "cell_type": "code",
      "source": [
        "M=np.array(returns.mean())\n",
        "print(M)"
      ],
      "metadata": {
        "colab": {
          "base_uri": "https://localhost:8080/"
        },
        "id": "FBBcuAT1A8Wq",
        "outputId": "d4b6c3de-428d-4036-fb55-bdda2a3df961"
      },
      "execution_count": 98,
      "outputs": [
        {
          "output_type": "stream",
          "name": "stdout",
          "text": [
            "[-0.70410224 -0.11493966 -0.39504273 -0.06103152  0.83717342 -0.5619796\n",
            "  0.06321418 -0.80016493 -0.32229105 -0.87009367]\n"
          ]
        }
      ]
    },
    {
      "cell_type": "code",
      "source": [
        "def minvarwts(myuv,m,C):\n",
        "  m=np.array(m)\n",
        "  n=len(m)\n",
        "  u=np.array(np.ones(n))\n",
        "  uT=u.reshape(-1,1)\n",
        "  C_inv=np.linalg.inv(C)\n",
        "  mT=m.reshape(-1,1)\n",
        "  a=u@C_inv@(uT)\n",
        "  b=u@C_inv@(mT)\n",
        "  c=m@C_inv@(uT)\n",
        "  d=m@C_inv@(mT)\n",
        "\n",
        "  p=d-myuv*b\n",
        "  q=a*myuv-c\n",
        "  r=a*d-b*c\n",
        "  w=(p*(u@C_inv)+q*(m@C_inv))/r\n",
        "\n",
        "  return np.array(w)"
      ],
      "metadata": {
        "id": "NMWeMI_fCRap"
      },
      "execution_count": 99,
      "outputs": []
    },
    {
      "cell_type": "code",
      "source": [
        "def minvarline(M,C):\n",
        "  risk=[]\n",
        "  weights=[]\n",
        "  testreturns=np.arange(0,0.8,0.0001)\n",
        "  returns=[]\n",
        "  for myu in testreturns:\n",
        "    w=minvarwts(myu,M,C)\n",
        "    weights.append(w)\n",
        "    sigma=np.power((w)@(C)@(w.T),0.5)\n",
        "    returns.append(myu)\n",
        "    risk.append(sigma)\n",
        "\n",
        "  weights=np.array(weights)\n",
        "  return risk,returns,weights"
      ],
      "metadata": {
        "id": "nZiUB1enCjG1"
      },
      "execution_count": 100,
      "outputs": []
    },
    {
      "cell_type": "code",
      "source": [
        "riskall,returnsall,weightsall=minvarline(M,C)\n",
        "print(\"minimum variance portfolio:\")\n",
        "minrisk=np.argmin(riskall)\n",
        "print(\"[\"+str(riskall[minrisk])+\",\"+str(returnsall[minrisk])+str(\"]\"))"
      ],
      "metadata": {
        "id": "v2xdwcf6Cjqx",
        "colab": {
          "base_uri": "https://localhost:8080/"
        },
        "outputId": "dd42cfae-f779-4ff9-d053-06b7ffdb17e7"
      },
      "execution_count": 101,
      "outputs": [
        {
          "output_type": "stream",
          "name": "stdout",
          "text": [
            "minimum variance portfolio:\n",
            "[0.029655912407237122,0.0]\n"
          ]
        }
      ]
    },
    {
      "cell_type": "code",
      "source": [
        "\n",
        "\n",
        "rf=-0.8\n",
        "C_inv=np.linalg.inv(C)\n",
        "u=np.ones(10)\n",
        "wm=(M-rf*u)@C_inv\n",
        "wm=wm/np.sum(wm)\n",
        "wmT=wm.reshape(-1,1)\n",
        "M=np.array(M)\n",
        "MT=M.reshape(-1,1)\n",
        "\n",
        "sigmam=np.power(wm@C@wmT,0.5)\n",
        "print(sigmam)\n",
        "myum=wm@MT\n",
        "print(myum)\n",
        "x=[0.03,0.06]\n",
        "y=[((myum-rf)*(0.03)/sigmam)+rf,((myum-rf)*(0.06)/sigmam)+rf]\n",
        "plt.xlabel('risk')\n",
        "plt.ylabel('returns')\n",
        "plt.plot(x,y,color='green')\n",
        "plt.scatter(riskall,returnsall)\n",
        "plt.show()"
      ],
      "metadata": {
        "colab": {
          "base_uri": "https://localhost:8080/",
          "height": 484
        },
        "id": "vj9D1MXFCnXH",
        "outputId": "3e2f0a49-b771-4a6b-cf41-44ac3c38d1d7"
      },
      "execution_count": 110,
      "outputs": [
        {
          "output_type": "stream",
          "name": "stdout",
          "text": [
            "[0.01324613]\n",
            "[-0.4320321]\n"
          ]
        },
        {
          "output_type": "display_data",
          "data": {
            "text/plain": [
              "<Figure size 640x480 with 1 Axes>"
            ],
            "image/png": "[encoded data removed]"
          },
          "metadata": {}
        }
      ]
    },
    {
      "cell_type": "code",
      "source": [
        "print(\"Market portfolio:\")\n",
        "print(\"[\"+str(sigmam)+str(\",\")+str(myum)+str(\"]\"))"
      ],
      "metadata": {
        "id": "1VD3k87ECwd4",
        "colab": {
          "base_uri": "https://localhost:8080/"
        },
        "outputId": "d73deaa3-0379-4f53-9611-375ceb7f7f1a"
      },
      "execution_count": 111,
      "outputs": [
        {
          "output_type": "stream",
          "name": "stdout",
          "text": [
            "Market portfolio:\n",
            "[[0.01324613],[-0.4320321]]\n"
          ]
        }
      ]
    },
    {
      "cell_type": "code",
      "source": [
        "#security market line"
      ],
      "metadata": {
        "id": "FSaxltx4FTyI"
      },
      "execution_count": 112,
      "outputs": []
    },
    {
      "cell_type": "code",
      "source": [
        "plt.xlabel('beta')\n",
        "plt.ylabel('mean returns')\n",
        "beta=[-1,1]\n",
        "returnss=(myum-rf)*beta+rf\n",
        "plt.plot(beta,returnss)"
      ],
      "metadata": {
        "colab": {
          "base_uri": "https://localhost:8080/",
          "height": 470
        },
        "id": "wW2zw51cFtqX",
        "outputId": "c3b385d7-e4b9-4055-89d2-14db30b7dec9"
      },
      "execution_count": 113,
      "outputs": [
        {
          "output_type": "execute_result",
          "data": {
            "text/plain": [
              "[<matplotlib.lines.Line2D at 0x7b56ab0a3e20>]"
            ]
          },
          "metadata": {},
          "execution_count": 113
        },
        {
          "output_type": "display_data",
          "data": {
            "text/plain": [
              "<Figure size 640x480 with 1 Axes>"
            ],
            "image/png": "[encoded data removed]"
          },
          "metadata": {}
        }
      ]
    },
    {
      "cell_type": "code",
      "source": [],
      "metadata": {
        "id": "yinCP3GPGTqi"
      },
      "execution_count": null,
      "outputs": []
    }
  ]
}