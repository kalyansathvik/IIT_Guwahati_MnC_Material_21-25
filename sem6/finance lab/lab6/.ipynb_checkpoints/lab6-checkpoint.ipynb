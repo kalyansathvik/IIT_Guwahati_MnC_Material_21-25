{
 "cells": [
  {
   "cell_type": "code",
   "execution_count": 3,
   "id": "115eb58e",
   "metadata": {},
   "outputs": [],
   "source": [
    "import matplotlib.pyplot as plt\n",
    "import numpy as np\n",
    "import pandas as pd\n",
    "import math"
   ]
  },
  {
   "cell_type": "code",
   "execution_count": 4,
   "id": "07067696",
   "metadata": {
    "scrolled": true
   },
   "outputs": [
    {
     "ename": "FileNotFoundError",
     "evalue": "[Errno 2] No such file or directory: 'C:/Users/sathv/Desktop/bsedata1.xlsx'",
     "output_type": "error",
     "traceback": [
      "\u001b[1;31m---------------------------------------------------------------------------\u001b[0m",
      "\u001b[1;31mFileNotFoundError\u001b[0m                         Traceback (most recent call last)",
      "Cell \u001b[1;32mIn[4], line 1\u001b[0m\n\u001b[1;32m----> 1\u001b[0m bse\u001b[38;5;241m=\u001b[39m\u001b[43mpd\u001b[49m\u001b[38;5;241;43m.\u001b[39;49m\u001b[43mread_excel\u001b[49m\u001b[43m(\u001b[49m\u001b[38;5;124;43m'\u001b[39;49m\u001b[38;5;124;43mC:/Users/sathv/Desktop/bsedata1.xlsx\u001b[39;49m\u001b[38;5;124;43m'\u001b[39;49m\u001b[43m)\u001b[49m\n",
      "File \u001b[1;32m~\\anaconda3\\envs\\djangoenv\\lib\\site-packages\\pandas\\util\\_decorators.py:211\u001b[0m, in \u001b[0;36mdeprecate_kwarg.<locals>._deprecate_kwarg.<locals>.wrapper\u001b[1;34m(*args, **kwargs)\u001b[0m\n\u001b[0;32m    209\u001b[0m     \u001b[38;5;28;01melse\u001b[39;00m:\n\u001b[0;32m    210\u001b[0m         kwargs[new_arg_name] \u001b[38;5;241m=\u001b[39m new_arg_value\n\u001b[1;32m--> 211\u001b[0m \u001b[38;5;28;01mreturn\u001b[39;00m func(\u001b[38;5;241m*\u001b[39margs, \u001b[38;5;241m*\u001b[39m\u001b[38;5;241m*\u001b[39mkwargs)\n",
      "File \u001b[1;32m~\\anaconda3\\envs\\djangoenv\\lib\\site-packages\\pandas\\util\\_decorators.py:331\u001b[0m, in \u001b[0;36mdeprecate_nonkeyword_arguments.<locals>.decorate.<locals>.wrapper\u001b[1;34m(*args, **kwargs)\u001b[0m\n\u001b[0;32m    325\u001b[0m \u001b[38;5;28;01mif\u001b[39;00m \u001b[38;5;28mlen\u001b[39m(args) \u001b[38;5;241m>\u001b[39m num_allow_args:\n\u001b[0;32m    326\u001b[0m     warnings\u001b[38;5;241m.\u001b[39mwarn(\n\u001b[0;32m    327\u001b[0m         msg\u001b[38;5;241m.\u001b[39mformat(arguments\u001b[38;5;241m=\u001b[39m_format_argument_list(allow_args)),\n\u001b[0;32m    328\u001b[0m         \u001b[38;5;167;01mFutureWarning\u001b[39;00m,\n\u001b[0;32m    329\u001b[0m         stacklevel\u001b[38;5;241m=\u001b[39mfind_stack_level(),\n\u001b[0;32m    330\u001b[0m     )\n\u001b[1;32m--> 331\u001b[0m \u001b[38;5;28;01mreturn\u001b[39;00m func(\u001b[38;5;241m*\u001b[39margs, \u001b[38;5;241m*\u001b[39m\u001b[38;5;241m*\u001b[39mkwargs)\n",
      "File \u001b[1;32m~\\anaconda3\\envs\\djangoenv\\lib\\site-packages\\pandas\\io\\excel\\_base.py:482\u001b[0m, in \u001b[0;36mread_excel\u001b[1;34m(io, sheet_name, header, names, index_col, usecols, squeeze, dtype, engine, converters, true_values, false_values, skiprows, nrows, na_values, keep_default_na, na_filter, verbose, parse_dates, date_parser, thousands, decimal, comment, skipfooter, convert_float, mangle_dupe_cols, storage_options)\u001b[0m\n\u001b[0;32m    480\u001b[0m \u001b[38;5;28;01mif\u001b[39;00m \u001b[38;5;129;01mnot\u001b[39;00m \u001b[38;5;28misinstance\u001b[39m(io, ExcelFile):\n\u001b[0;32m    481\u001b[0m     should_close \u001b[38;5;241m=\u001b[39m \u001b[38;5;28;01mTrue\u001b[39;00m\n\u001b[1;32m--> 482\u001b[0m     io \u001b[38;5;241m=\u001b[39m \u001b[43mExcelFile\u001b[49m\u001b[43m(\u001b[49m\u001b[43mio\u001b[49m\u001b[43m,\u001b[49m\u001b[43m \u001b[49m\u001b[43mstorage_options\u001b[49m\u001b[38;5;241;43m=\u001b[39;49m\u001b[43mstorage_options\u001b[49m\u001b[43m,\u001b[49m\u001b[43m \u001b[49m\u001b[43mengine\u001b[49m\u001b[38;5;241;43m=\u001b[39;49m\u001b[43mengine\u001b[49m\u001b[43m)\u001b[49m\n\u001b[0;32m    483\u001b[0m \u001b[38;5;28;01melif\u001b[39;00m engine \u001b[38;5;129;01mand\u001b[39;00m engine \u001b[38;5;241m!=\u001b[39m io\u001b[38;5;241m.\u001b[39mengine:\n\u001b[0;32m    484\u001b[0m     \u001b[38;5;28;01mraise\u001b[39;00m \u001b[38;5;167;01mValueError\u001b[39;00m(\n\u001b[0;32m    485\u001b[0m         \u001b[38;5;124m\"\u001b[39m\u001b[38;5;124mEngine should not be specified when passing \u001b[39m\u001b[38;5;124m\"\u001b[39m\n\u001b[0;32m    486\u001b[0m         \u001b[38;5;124m\"\u001b[39m\u001b[38;5;124man ExcelFile - ExcelFile already has the engine set\u001b[39m\u001b[38;5;124m\"\u001b[39m\n\u001b[0;32m    487\u001b[0m     )\n",
      "File \u001b[1;32m~\\anaconda3\\envs\\djangoenv\\lib\\site-packages\\pandas\\io\\excel\\_base.py:1652\u001b[0m, in \u001b[0;36mExcelFile.__init__\u001b[1;34m(self, path_or_buffer, engine, storage_options)\u001b[0m\n\u001b[0;32m   1650\u001b[0m     ext \u001b[38;5;241m=\u001b[39m \u001b[38;5;124m\"\u001b[39m\u001b[38;5;124mxls\u001b[39m\u001b[38;5;124m\"\u001b[39m\n\u001b[0;32m   1651\u001b[0m \u001b[38;5;28;01melse\u001b[39;00m:\n\u001b[1;32m-> 1652\u001b[0m     ext \u001b[38;5;241m=\u001b[39m \u001b[43minspect_excel_format\u001b[49m\u001b[43m(\u001b[49m\n\u001b[0;32m   1653\u001b[0m \u001b[43m        \u001b[49m\u001b[43mcontent_or_path\u001b[49m\u001b[38;5;241;43m=\u001b[39;49m\u001b[43mpath_or_buffer\u001b[49m\u001b[43m,\u001b[49m\u001b[43m \u001b[49m\u001b[43mstorage_options\u001b[49m\u001b[38;5;241;43m=\u001b[39;49m\u001b[43mstorage_options\u001b[49m\n\u001b[0;32m   1654\u001b[0m \u001b[43m    \u001b[49m\u001b[43m)\u001b[49m\n\u001b[0;32m   1655\u001b[0m     \u001b[38;5;28;01mif\u001b[39;00m ext \u001b[38;5;129;01mis\u001b[39;00m \u001b[38;5;28;01mNone\u001b[39;00m:\n\u001b[0;32m   1656\u001b[0m         \u001b[38;5;28;01mraise\u001b[39;00m \u001b[38;5;167;01mValueError\u001b[39;00m(\n\u001b[0;32m   1657\u001b[0m             \u001b[38;5;124m\"\u001b[39m\u001b[38;5;124mExcel file format cannot be determined, you must specify \u001b[39m\u001b[38;5;124m\"\u001b[39m\n\u001b[0;32m   1658\u001b[0m             \u001b[38;5;124m\"\u001b[39m\u001b[38;5;124man engine manually.\u001b[39m\u001b[38;5;124m\"\u001b[39m\n\u001b[0;32m   1659\u001b[0m         )\n",
      "File \u001b[1;32m~\\anaconda3\\envs\\djangoenv\\lib\\site-packages\\pandas\\io\\excel\\_base.py:1525\u001b[0m, in \u001b[0;36minspect_excel_format\u001b[1;34m(content_or_path, storage_options)\u001b[0m\n\u001b[0;32m   1522\u001b[0m \u001b[38;5;28;01mif\u001b[39;00m \u001b[38;5;28misinstance\u001b[39m(content_or_path, \u001b[38;5;28mbytes\u001b[39m):\n\u001b[0;32m   1523\u001b[0m     content_or_path \u001b[38;5;241m=\u001b[39m BytesIO(content_or_path)\n\u001b[1;32m-> 1525\u001b[0m \u001b[38;5;28;01mwith\u001b[39;00m \u001b[43mget_handle\u001b[49m\u001b[43m(\u001b[49m\n\u001b[0;32m   1526\u001b[0m \u001b[43m    \u001b[49m\u001b[43mcontent_or_path\u001b[49m\u001b[43m,\u001b[49m\u001b[43m \u001b[49m\u001b[38;5;124;43m\"\u001b[39;49m\u001b[38;5;124;43mrb\u001b[39;49m\u001b[38;5;124;43m\"\u001b[39;49m\u001b[43m,\u001b[49m\u001b[43m \u001b[49m\u001b[43mstorage_options\u001b[49m\u001b[38;5;241;43m=\u001b[39;49m\u001b[43mstorage_options\u001b[49m\u001b[43m,\u001b[49m\u001b[43m \u001b[49m\u001b[43mis_text\u001b[49m\u001b[38;5;241;43m=\u001b[39;49m\u001b[38;5;28;43;01mFalse\u001b[39;49;00m\n\u001b[0;32m   1527\u001b[0m \u001b[43m\u001b[49m\u001b[43m)\u001b[49m \u001b[38;5;28;01mas\u001b[39;00m handle:\n\u001b[0;32m   1528\u001b[0m     stream \u001b[38;5;241m=\u001b[39m handle\u001b[38;5;241m.\u001b[39mhandle\n\u001b[0;32m   1529\u001b[0m     stream\u001b[38;5;241m.\u001b[39mseek(\u001b[38;5;241m0\u001b[39m)\n",
      "File \u001b[1;32m~\\anaconda3\\envs\\djangoenv\\lib\\site-packages\\pandas\\io\\common.py:865\u001b[0m, in \u001b[0;36mget_handle\u001b[1;34m(path_or_buf, mode, encoding, compression, memory_map, is_text, errors, storage_options)\u001b[0m\n\u001b[0;32m    856\u001b[0m         handle \u001b[38;5;241m=\u001b[39m \u001b[38;5;28mopen\u001b[39m(\n\u001b[0;32m    857\u001b[0m             handle,\n\u001b[0;32m    858\u001b[0m             ioargs\u001b[38;5;241m.\u001b[39mmode,\n\u001b[1;32m   (...)\u001b[0m\n\u001b[0;32m    861\u001b[0m             newline\u001b[38;5;241m=\u001b[39m\u001b[38;5;124m\"\u001b[39m\u001b[38;5;124m\"\u001b[39m,\n\u001b[0;32m    862\u001b[0m         )\n\u001b[0;32m    863\u001b[0m     \u001b[38;5;28;01melse\u001b[39;00m:\n\u001b[0;32m    864\u001b[0m         \u001b[38;5;66;03m# Binary mode\u001b[39;00m\n\u001b[1;32m--> 865\u001b[0m         handle \u001b[38;5;241m=\u001b[39m \u001b[38;5;28;43mopen\u001b[39;49m\u001b[43m(\u001b[49m\u001b[43mhandle\u001b[49m\u001b[43m,\u001b[49m\u001b[43m \u001b[49m\u001b[43mioargs\u001b[49m\u001b[38;5;241;43m.\u001b[39;49m\u001b[43mmode\u001b[49m\u001b[43m)\u001b[49m\n\u001b[0;32m    866\u001b[0m     handles\u001b[38;5;241m.\u001b[39mappend(handle)\n\u001b[0;32m    868\u001b[0m \u001b[38;5;66;03m# Convert BytesIO or file objects passed with an encoding\u001b[39;00m\n",
      "\u001b[1;31mFileNotFoundError\u001b[0m: [Errno 2] No such file or directory: 'C:/Users/sathv/Desktop/bsedata1.xlsx'"
     ]
    }
   ],
   "source": [
    "bse=pd.read_excel('C:/Users/sathv/Desktop/bsedata1.xlsx')"
   ]
  },
  {
   "cell_type": "code",
   "execution_count": null,
   "id": "26b51771",
   "metadata": {},
   "outputs": [],
   "source": [
    "nse=pd.read_excel('C:/Users/sathv/Desktop/nsedata1.xlsx')"
   ]
  },
  {
   "cell_type": "code",
   "execution_count": null,
   "id": "d772534f",
   "metadata": {},
   "outputs": [],
   "source": [
    "bse.head()"
   ]
  },
  {
   "cell_type": "code",
   "execution_count": null,
   "id": "5aa9c8a6",
   "metadata": {},
   "outputs": [],
   "source": [
    "nse.head()"
   ]
  },
  {
   "cell_type": "code",
   "execution_count": null,
   "id": "b01f8ec1",
   "metadata": {},
   "outputs": [],
   "source": [
    "cmap=plt.get_cmap('gnuplot')\n",
    "colors=[]\n",
    "for i in range(21):\n",
    "    colors.append(cmap(i))"
   ]
  },
  {
   "cell_type": "code",
   "execution_count": null,
   "id": "87992931",
   "metadata": {},
   "outputs": [],
   "source": [
    "def plotter(i,df):\n",
    "    if(i==1):\n",
    "        title='daily'\n",
    "    elif(i==7):\n",
    "        title='weekly'\n",
    "    else:\n",
    "        title='monthly'\n",
    "    n=df.shape[0]\n",
    "    df1=df.iloc[::i]\n",
    "    plt.ylabel('Stock prices')\n",
    "    plt.title(title)\n",
    "    columns=df1.columns\n",
    "    for j in range(2,23):\n",
    "        plt.plot(df1.index,df1[columns[j-1]],color=colors[j-2],label='dogs')\n",
    "    plt.show()\n",
    "    \n",
    "    return df1\n",
    "        \n",
    "    \n",
    "    "
   ]
  },
  {
   "cell_type": "code",
   "execution_count": null,
   "id": "343a96eb",
   "metadata": {},
   "outputs": [],
   "source": [
    "def normal(x,myu,sigma):\n",
    "    a=1/(np.power(2*np.pi,0.5)*sigma)\n",
    "    z=(x-myu)/sigma\n",
    "    b=np.power(np.e,-z*z/2)\n",
    "    return a*b\n",
    "\n",
    "normal=np.vectorize(normal)"
   ]
  },
  {
   "cell_type": "code",
   "execution_count": null,
   "id": "05eecfcc",
   "metadata": {},
   "outputs": [],
   "source": [
    "def returnplotter(df):\n",
    "    df=df.drop(df.columns[0],axis=1)\n",
    "    returns=df/df.shift(-1)-1\n",
    "    x=np.arange(-6,6,0.1)\n",
    "    for column in returns.columns:\n",
    "        myu=returns[column].mean()\n",
    "        sigma=np.power(returns[column].var(),0.5)\n",
    "        plt.hist((returns[column]-myu)/(sigma),bins=100,density=True)\n",
    "        plt.title('returns')\n",
    "        plt.plot(x,normal(x,0,1),color='red')\n",
    "        plt.show()"
   ]
  },
  {
   "cell_type": "code",
   "execution_count": null,
   "id": "eed2d3f8",
   "metadata": {},
   "outputs": [],
   "source": [
    "def logreturnplotter(df):\n",
    "    df=df.drop(df.columns[0],axis=1)\n",
    "    returns=df/df.shift(-1)\n",
    "    print(returns.head())\n",
    "    returns.dropna()\n",
    "    returns=np.log(returns)\n",
    "    print(returns.head())\n",
    "    x=np.arange(-6,6,0.1)\n",
    "    for column in returns.columns:\n",
    "        myu=returns[column].mean()\n",
    "        sigma=np.power(returns[column].var(),0.5)\n",
    "        plt.hist((returns[column]-myu)/(sigma),bins=100,density=True)\n",
    "        plt.plot(x,normal(x,0,1),color='red')\n",
    "        plt.title('log returns')\n",
    "        plt.show()"
   ]
  },
  {
   "cell_type": "code",
   "execution_count": null,
   "id": "286a38b9",
   "metadata": {},
   "outputs": [],
   "source": [
    "for j in [nse,bse]:\n",
    "    for i in [1,7,30]:\n",
    "        df=plotter(i,j)\n",
    "        returnplotter(df)\n",
    "        logreturnplotter(df)"
   ]
  },
  {
   "cell_type": "code",
   "execution_count": null,
   "id": "1d81f8c8",
   "metadata": {
    "scrolled": true
   },
   "outputs": [],
   "source": [
    "bseact=bse.iloc[990:,:]\n",
    "bsedata=bse.iloc[:990,:]\n",
    "\n",
    "bsedata.tail()\n",
    "\n",
    "bseact.head()"
   ]
  },
  {
   "cell_type": "code",
   "execution_count": null,
   "id": "ec93362a",
   "metadata": {},
   "outputs": [],
   "source": [
    "nseact=nse.iloc[990:,:]\n",
    "nsedata=nse.iloc[:990,:]\n",
    "\n",
    "nsedata.tail()\n",
    "\n",
    "nseact.head()"
   ]
  },
  {
   "cell_type": "code",
   "execution_count": null,
   "id": "dd8f13f1",
   "metadata": {},
   "outputs": [],
   "source": [
    "nsedata.tail()"
   ]
  },
  {
   "cell_type": "code",
   "execution_count": null,
   "id": "1829b00a",
   "metadata": {},
   "outputs": [],
   "source": [
    "def plotpath(S0,myu,sigma,i,actdf):\n",
    "    total=actdf.shape[0]\n",
    "    t=np.arange(0,total,1)\n",
    "    time=t/total\n",
    "    W=np.random.normal(0,np.power(time,0.5))\n",
    "    a=(myu-sigma**2/2)\n",
    "    S=S0*np.power(np.e,(a*(time)+sigma*W))\n",
    "    plt.plot(t,S)"
   ]
  },
  {
   "cell_type": "code",
   "execution_count": null,
   "id": "17e7e568",
   "metadata": {},
   "outputs": [],
   "source": [
    "def extrapolator(datadf,actdf,i):\n",
    "    df=datadf\n",
    "    df=df.iloc[:,1:]\n",
    "    returns=df/df.shift(-i)\n",
    "    returns.dropna()\n",
    "    returns=np.log(returns)+1\n",
    "    for column in datadf.columns:\n",
    "        if(column!='Date'):\n",
    "            myu=returns[column].mean()\n",
    "            sigma=np.power(returns[column].var(),0.5)\n",
    "            S0=actdf[column].iloc[0]\n",
    "            plotpath(S0,myu,sigma,i,actdf)\n",
    "            plt.title(str(column)+str(i))\n",
    "            plt.xlabel('days')\n",
    "            plt.ylabel('stock price')\n",
    "            plt.plot(actdf.index-actdf.index[0],actdf[column],color='red')\n",
    "            plt.show()\n",
    "        "
   ]
  },
  {
   "cell_type": "code",
   "execution_count": null,
   "id": "5b51948f",
   "metadata": {},
   "outputs": [],
   "source": [
    "for i in [1,7,30]:\n",
    "    extrapolator(bsedata,bseact,i)"
   ]
  },
  {
   "cell_type": "code",
   "execution_count": null,
   "id": "dd2bfa24",
   "metadata": {},
   "outputs": [],
   "source": [
    "for i in [1,7,30]:\n",
    "    extrapolator(nsedata,nseact,i)"
   ]
  },
  {
   "cell_type": "code",
   "execution_count": null,
   "id": "0b0ff024",
   "metadata": {},
   "outputs": [],
   "source": []
  }
 ],
 "metadata": {
  "kernelspec": {
   "display_name": "Python 3 (ipykernel)",
   "language": "python",
   "name": "python3"
  },
  "language_info": {
   "codemirror_mode": {
    "name": "ipython",
    "version": 3
   },
   "file_extension": ".py",
   "mimetype": "text/x-python",
   "name": "python",
   "nbconvert_exporter": "python",
   "pygments_lexer": "ipython3",
   "version": "3.10.4"
  }
 },
 "nbformat": 4,
 "nbformat_minor": 5
}
