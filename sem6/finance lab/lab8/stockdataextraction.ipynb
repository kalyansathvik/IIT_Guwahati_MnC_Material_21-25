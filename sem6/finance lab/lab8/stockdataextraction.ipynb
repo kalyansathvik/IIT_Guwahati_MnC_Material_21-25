{
 "cells": [
  {
   "cell_type": "code",
   "execution_count": 23,
   "id": "b027c909",
   "metadata": {},
   "outputs": [],
   "source": [
    "import yfinance as yf\n",
    "import pandas as pd\n",
    "import matplotlib.pyplot as plt\n",
    "import numpy as np"
   ]
  },
  {
   "cell_type": "code",
   "execution_count": 24,
   "id": "722ef4c7",
   "metadata": {},
   "outputs": [],
   "source": [
    "def get_stock_data(ticker, start_date, end_date):\n",
    "    stock_data = yf.download(ticker, start=start_date, end=end_date)\n",
    "    return stock_data"
   ]
  },
  {
   "cell_type": "code",
   "execution_count": 32,
   "id": "e4d06220",
   "metadata": {},
   "outputs": [],
   "source": [
    "start_date = '2019-01-01'\n",
    "end_date = '2023-12-31'\n",
    "sensex_companies = [\"RELIANCE.BO\", \"HDFCBANK.BO\",\"AXISBANK.BO\", \"HINDUNILVR.BO\", \"ICICIBANK.BO\", \"KOTAKBANK.BO\", \"WIPRO.BO\",\n",
    "                    \"ITC.BO\", \"LT.BO\", \"SBIN.BO\"]\n",
    "other_bse=['TRENT.BO','LUPIN.BO','YESBANK.BO','BLS.BO','GRASIM.BO','ULTRACEMCO.BO','ACC.BO','SHREECEM.BO','DABUR.BO','GODREJCP.BO']\n",
    "\n",
    "nifty_companies = [\n",
    "     \"ADANIPORTS.NS\",\n",
    "    \"ASIANPAINT.NS\",\n",
    "    \"AXISBANK.NS\",\n",
    "    \"BAJAJ-AUTO.NS\",\n",
    "    \"BAJFINANCE.NS\",\n",
    "    \"BPCL.NS\",\n",
    "    \"CIPLA.NS\",\n",
    "    \"COALINDIA.NS\",\n",
    "    \"HDFCBANK.NS\",\n",
    "    \"HEROMOTOCO.NS\"\n",
    "]\n",
    "\n",
    "other_nse=['ZYDUSLIFE.NS','COLPAL.NS','BHEL.NS','JSWENERGY.NS','CANBK.NS','NAUKRI.NS','BOSCHLTD.NS','NHPC.NS','AUROPHARMA.NS','IDFCFIRSTB.NS']\n",
    "\n"
   ]
  },
  {
   "cell_type": "code",
   "execution_count": 33,
   "id": "872eaac1",
   "metadata": {},
   "outputs": [],
   "source": [
    "def excel_creation(stockex,indexcomplist,othercomplist,start_date,end_date):\n",
    "  excel_file_path = str(stockex)+'data1.xlsx'\n",
    "  stock_data=pd.DataFrame()\n",
    "\n",
    "  for company in indexcomplist:\n",
    "      df=pd.DataFrame(get_stock_data(company, start_date, end_date)['Open'])\n",
    "      df.rename(columns={'Open':str(company)}, inplace=True)\n",
    "      stock_data = pd.concat([stock_data,df],axis=1)\n",
    "\n",
    "  for company in othercomplist:\n",
    "    df=pd.DataFrame(get_stock_data(company, start_date, end_date)['Open'])\n",
    "    df.rename(columns={'Open':str(company)}, inplace=True)\n",
    "    stock_data = pd.concat([stock_data,df],axis=1)\n",
    "\n",
    "  if(stockex=='bse'):\n",
    "    ticker='^BSESN'\n",
    "  if(stockex=='nse'):\n",
    "    ticker='^NSEI'\n",
    "  se=pd.DataFrame(get_stock_data(ticker,start_date,end_date)['Open'])\n",
    "  se.rename(columns={'Open':'Stockex'}, inplace=True)\n",
    "  stock_data = pd.concat([stock_data,se],axis=1)\n",
    "\n",
    "  stock_data.to_excel(excel_file_path)\n",
    "  return stock_data"
   ]
  },
  {
   "cell_type": "code",
   "execution_count": 34,
   "id": "7348582b",
   "metadata": {},
   "outputs": [
    {
     "name": "stderr",
     "output_type": "stream",
     "text": [
      "[*********************100%%**********************]  1 of 1 completed\n",
      "[*********************100%%**********************]  1 of 1 completed\n",
      "[*********************100%%**********************]  1 of 1 completed\n",
      "[*********************100%%**********************]  1 of 1 completed\n",
      "[*********************100%%**********************]  1 of 1 completed\n",
      "[*********************100%%**********************]  1 of 1 completed\n",
      "[*********************100%%**********************]  1 of 1 completed\n",
      "[*********************100%%**********************]  1 of 1 completed\n",
      "[*********************100%%**********************]  1 of 1 completed\n",
      "[*********************100%%**********************]  1 of 1 completed\n",
      "[*********************100%%**********************]  1 of 1 completed\n",
      "[*********************100%%**********************]  1 of 1 completed\n",
      "[*********************100%%**********************]  1 of 1 completed\n",
      "[*********************100%%**********************]  1 of 1 completed\n",
      "[*********************100%%**********************]  1 of 1 completed\n",
      "[*********************100%%**********************]  1 of 1 completed\n",
      "[*********************100%%**********************]  1 of 1 completed\n",
      "[*********************100%%**********************]  1 of 1 completed\n",
      "[*********************100%%**********************]  1 of 1 completed\n",
      "[*********************100%%**********************]  1 of 1 completed\n",
      "[*********************100%%**********************]  1 of 1 completed\n"
     ]
    }
   ],
   "source": [
    "bse=excel_creation('bse',sensex_companies,other_bse,start_date,end_date)"
   ]
  },
  {
   "cell_type": "code",
   "execution_count": 35,
   "id": "01790733",
   "metadata": {},
   "outputs": [
    {
     "name": "stderr",
     "output_type": "stream",
     "text": [
      "[*********************100%%**********************]  1 of 1 completed\n",
      "[*********************100%%**********************]  1 of 1 completed\n",
      "[*********************100%%**********************]  1 of 1 completed\n",
      "[*********************100%%**********************]  1 of 1 completed\n",
      "[*********************100%%**********************]  1 of 1 completed\n",
      "[*********************100%%**********************]  1 of 1 completed\n",
      "[*********************100%%**********************]  1 of 1 completed\n",
      "[*********************100%%**********************]  1 of 1 completed\n",
      "[*********************100%%**********************]  1 of 1 completed\n",
      "[*********************100%%**********************]  1 of 1 completed\n",
      "[*********************100%%**********************]  1 of 1 completed\n",
      "[*********************100%%**********************]  1 of 1 completed\n",
      "[*********************100%%**********************]  1 of 1 completed\n",
      "[*********************100%%**********************]  1 of 1 completed\n",
      "[*********************100%%**********************]  1 of 1 completed\n",
      "[*********************100%%**********************]  1 of 1 completed\n",
      "[*********************100%%**********************]  1 of 1 completed\n",
      "[*********************100%%**********************]  1 of 1 completed\n",
      "[*********************100%%**********************]  1 of 1 completed\n",
      "[*********************100%%**********************]  1 of 1 completed\n",
      "[*********************100%%**********************]  1 of 1 completed\n"
     ]
    }
   ],
   "source": [
    "nse=excel_creation('nse',nifty_companies,other_nse,start_date,end_date)"
   ]
  },
  {
   "cell_type": "code",
   "execution_count": null,
   "id": "22a4810a",
   "metadata": {},
   "outputs": [],
   "source": []
  }
 ],
 "metadata": {
  "kernelspec": {
   "display_name": "Python 3 (ipykernel)",
   "language": "python",
   "name": "python3"
  },
  "language_info": {
   "codemirror_mode": {
    "name": "ipython",
    "version": 3
   },
   "file_extension": ".py",
   "mimetype": "text/x-python",
   "name": "python",
   "nbconvert_exporter": "python",
   "pygments_lexer": "ipython3",
   "version": "3.10.4"
  }
 },
 "nbformat": 4,
 "nbformat_minor": 5
}
