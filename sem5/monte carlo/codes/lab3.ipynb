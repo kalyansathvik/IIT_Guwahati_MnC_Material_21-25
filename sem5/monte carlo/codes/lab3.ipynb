{
  "cells": [
    {
      "cell_type": "code",
      "execution_count": 2,
      "id": "e6dcfc12-62ba-48e7-a7ad-65f2d50ff1aa",
      "metadata": {
        "tags": [],
        "id": "e6dcfc12-62ba-48e7-a7ad-65f2d50ff1aa"
      },
      "outputs": [],
      "source": [
        "import numpy as np\n",
        "import matplotlib.pyplot as plt\n",
        "import pandas as pd\n",
        "import math\n",
        "import random"
      ]
    },
    {
      "cell_type": "code",
      "execution_count": 3,
      "id": "bd67eee7-a3ed-4bff-95d8-ef095a2a81a6",
      "metadata": {
        "tags": [],
        "id": "bd67eee7-a3ed-4bff-95d8-ef095a2a81a6"
      },
      "outputs": [],
      "source": [
        "def ugen(x0):\n",
        "    a=51749\n",
        "    b=0\n",
        "    m=244944584\n",
        "    x=x0\n",
        "    def gen():\n",
        "        nonlocal x\n",
        "        x=(a*x+b)%m\n",
        "        return x/m\n",
        "\n",
        "    return gen\n"
      ]
    },
    {
      "cell_type": "code",
      "execution_count": 4,
      "id": "e1a2ebb1-dde4-467c-ae85-f06e58362905",
      "metadata": {
        "tags": [],
        "id": "e1a2ebb1-dde4-467c-ae85-f06e58362905"
      },
      "outputs": [],
      "source": [
        "#1"
      ]
    },
    {
      "cell_type": "code",
      "execution_count": 5,
      "id": "49e64359-24c9-4834-afe1-0d7990bd86f3",
      "metadata": {
        "tags": [],
        "id": "49e64359-24c9-4834-afe1-0d7990bd86f3"
      },
      "outputs": [],
      "source": [
        "generator1=ugen(50)"
      ]
    },
    {
      "cell_type": "code",
      "source": [
        "for i in range(5):\n",
        "  print(generator1())"
      ],
      "metadata": {
        "colab": {
          "base_uri": "https://localhost:8080/"
        },
        "id": "_LJhmDCdOdwt",
        "outputId": "3e886d18-0dcf-4051-aeb2-f74703631dd6"
      },
      "id": "_LJhmDCdOdwt",
      "execution_count": 6,
      "outputs": [
        {
          "output_type": "stream",
          "name": "stdout",
          "text": [
            "0.01056340972209453\n",
            "0.6458897086697781\n",
            "0.14653395234899336\n",
            "0.9855001080570942\n",
            "0.645091846570488\n"
          ]
        }
      ]
    },
    {
      "cell_type": "code",
      "source": [
        "generator2=ugen(60)"
      ],
      "metadata": {
        "id": "cAqP8chXO76u"
      },
      "id": "cAqP8chXO76u",
      "execution_count": 7,
      "outputs": []
    },
    {
      "cell_type": "code",
      "source": [
        "def f(x):\n",
        "  if x>0 and x<1:\n",
        "    return 20*x*np.power(1-x,3)"
      ],
      "metadata": {
        "id": "JZjjHQJtJJI5"
      },
      "id": "JZjjHQJtJJI5",
      "execution_count": 8,
      "outputs": []
    },
    {
      "cell_type": "code",
      "source": [
        "c=(136/64)\n",
        "#actually c value is 135/64 but a computer might round off value to some decimal place\n",
        "iter=[]\n",
        "rx=[]\n",
        "for i in range(10000):\n",
        "  counter=1\n",
        "  while  True:\n",
        "    u=generator1()\n",
        "    x=generator2()\n",
        "    if(u*c<=f(x)):\n",
        "      iter.append(counter)\n",
        "      rx.append(x)\n",
        "      break\n",
        "    else:\n",
        "      counter+=1\n"
      ],
      "metadata": {
        "id": "pfEmWj-cL_vd"
      },
      "id": "pfEmWj-cL_vd",
      "execution_count": 9,
      "outputs": []
    },
    {
      "cell_type": "code",
      "source": [
        "nprx=np.array(rx)\n",
        "npiter=np.array(iter)\n",
        "print(\"mean:\"+str(nprx.mean()))\n",
        "#print(.variance())\n",
        "print(\"average number of iterations:\"+str(npiter.mean()))\n",
        "print(c)"
      ],
      "metadata": {
        "colab": {
          "base_uri": "https://localhost:8080/"
        },
        "id": "mQJVZR0zT3Vl",
        "outputId": "2da968c1-7da8-4075-a5bc-e89ff1ab725d"
      },
      "id": "mQJVZR0zT3Vl",
      "execution_count": 10,
      "outputs": [
        {
          "output_type": "stream",
          "name": "stdout",
          "text": [
            "mean:0.33418915590148346\n",
            "average number of iterations:2.1269\n",
            "2.125\n"
          ]
        }
      ]
    },
    {
      "cell_type": "code",
      "source": [
        "count=0\n",
        "for i in range(10000):\n",
        "  if(rx[i]>=0.25 and rx[i]<=0.75):\n",
        "    count+=1\n",
        "\n",
        "print(\"P(0.25<=X<=0.75) from generated sample=\"+str(count/10000))\n",
        "print(\"Calculated=79/128=0.617\")"
      ],
      "metadata": {
        "colab": {
          "base_uri": "https://localhost:8080/"
        },
        "id": "IKmQTMe1cDqW",
        "outputId": "4f0a53c5-6291-4a64-f44c-e1778d861ae7"
      },
      "id": "IKmQTMe1cDqW",
      "execution_count": 11,
      "outputs": [
        {
          "output_type": "stream",
          "name": "stdout",
          "text": [
            "P(0.25<=X<=0.75) from generated sample=0.6147\n",
            "Calculated=79/128=0.617\n"
          ]
        }
      ]
    },
    {
      "cell_type": "code",
      "source": [
        "ry=[]\n",
        "for i in range(10000):\n",
        "  ry.append(f(rx[i]))\n",
        "plt.hist(nprx,bins=100,weights=np.full(10000,1/100))\n",
        "plt.scatter(rx,np.array(ry),color=\"red\")\n",
        "plt.show()\n",
        "plt.clf()"
      ],
      "metadata": {
        "colab": {
          "base_uri": "https://localhost:8080/",
          "height": 447
        },
        "id": "IMgap7UhjZ6v",
        "outputId": "b69fa20c-0831-4ef6-e4e3-dad588085ae1"
      },
      "id": "IMgap7UhjZ6v",
      "execution_count": 12,
      "outputs": [
        {
          "output_type": "display_data",
          "data": {
            "text/plain": [
              "<Figure size 640x480 with 1 Axes>"
            ],
            "image/png": "[encoded data removed]"
          },
          "metadata": {}
        },
        {
          "output_type": "display_data",
          "data": {
            "text/plain": [
              "<Figure size 640x480 with 0 Axes>"
            ]
          },
          "metadata": {}
        }
      ]
    },
    {
      "cell_type": "code",
      "source": [
        "#f"
      ],
      "metadata": {
        "id": "R5ieAfFhyCQs"
      },
      "id": "R5ieAfFhyCQs",
      "execution_count": 13,
      "outputs": []
    },
    {
      "cell_type": "code",
      "source": [
        "c1=3\n",
        "iter=[]\n",
        "rx=[]\n",
        "for i in range(10000):\n",
        "  counter=1\n",
        "  while  True:\n",
        "    u=generator1()\n",
        "    x=generator2()\n",
        "    if(u*c1<=f(x)):\n",
        "      iter.append(counter)\n",
        "      rx.append(x)\n",
        "      break\n",
        "    else:\n",
        "      counter+=1\n",
        "\n",
        "nprx=np.array(rx)\n",
        "npiter=np.array(iter)\n",
        "print(nprx.mean())\n",
        "#print(.variance())\n",
        "print(npiter.mean())\n",
        "print(136/64)\n",
        "\n",
        "count=0\n",
        "for i in range(10000):\n",
        "  if(rx[i]>=0.25 and rx[i]<=0.75):\n",
        "    count+=1\n",
        "\n",
        "print(\"P(0.25<=X<=0.75) from generated sample=\"+str(count/10000))\n",
        "print(\"Calculated=79/128=0.617\")"
      ],
      "metadata": {
        "colab": {
          "base_uri": "https://localhost:8080/"
        },
        "id": "EfIV7JNZ61Cs",
        "outputId": "ab81bd7e-c3e8-44c9-9f4e-e91ea39871a5"
      },
      "execution_count": 14,
      "outputs": [
        {
          "output_type": "stream",
          "name": "stdout",
          "text": [
            "0.33282222475921325\n",
            "2.9978\n",
            "2.125\n",
            "P(0.25<=X<=0.75) from generated sample=0.6198\n",
            "Calculated=79/128=0.617\n"
          ]
        }
      ],
      "id": "EfIV7JNZ61Cs"
    },
    {
      "cell_type": "code",
      "source": [],
      "metadata": {
        "id": "oQtm0C-g7Sg-"
      },
      "id": "oQtm0C-g7Sg-",
      "execution_count": 14,
      "outputs": []
    },
    {
      "cell_type": "code",
      "source": [
        "c1=5\n",
        "iter=[]\n",
        "rx=[]\n",
        "for i in range(10000):\n",
        "  counter=1\n",
        "  while  True:\n",
        "    u=generator1()\n",
        "    x=generator2()\n",
        "    if(u*c1<=f(x)):\n",
        "      iter.append(counter)\n",
        "      rx.append(x)\n",
        "      break\n",
        "    else:\n",
        "      counter+=1\n",
        "\n",
        "nprx=np.array(rx)\n",
        "npiter=np.array(iter)\n",
        "print(nprx.mean())\n",
        "#print(.variance())\n",
        "print(npiter.mean())\n",
        "print(136/64)\n",
        "\n",
        "count=0\n",
        "for i in range(10000):\n",
        "  if(rx[i]>=0.25 and rx[i]<=0.75):\n",
        "    count+=1\n",
        "\n",
        "print(\"P(0.25<=X<=0.75) from generated sample=\"+str(count/10000))\n",
        "print(\"Calculated=79/128=0.617\")"
      ],
      "metadata": {
        "colab": {
          "base_uri": "https://localhost:8080/"
        },
        "outputId": "b03e4a14-2af1-4e41-ed9e-6a1e9b2da6a2",
        "id": "eX1IXqzP7o9-"
      },
      "execution_count": 15,
      "outputs": [
        {
          "output_type": "stream",
          "name": "stdout",
          "text": [
            "0.33376075387566034\n",
            "4.9579\n",
            "2.125\n",
            "P(0.25<=X<=0.75) from generated sample=0.6158\n",
            "Calculated=79/128=0.617\n"
          ]
        }
      ],
      "id": "eX1IXqzP7o9-"
    },
    {
      "cell_type": "code",
      "source": [
        "#2"
      ],
      "metadata": {
        "id": "kgNZNzsW7rFQ"
      },
      "id": "kgNZNzsW7rFQ",
      "execution_count": 16,
      "outputs": []
    },
    {
      "cell_type": "code",
      "source": [
        "def f2(x):\n",
        "  k=np.e/(6*np.e-16)\n",
        "  a=np.power(x,alpha-1)\n",
        "  b=np.power(np.e,-x)\n",
        "  return k*a*b"
      ],
      "metadata": {
        "id": "mxLpJgb5gb0v"
      },
      "id": "mxLpJgb5gb0v",
      "execution_count": 25,
      "outputs": []
    },
    {
      "cell_type": "code",
      "source": [
        "c=3.23\n",
        "#actually 1/(6e-16)=3.2290\n",
        "alpha=4\n",
        "#gammaofalpha=(4-1)!=6\n",
        "\n",
        "iter=[]\n",
        "rx=[]\n",
        "for i in range(10000):\n",
        "  counter=1\n",
        "  while  True:\n",
        "    u=generator1()\n",
        "    x=generator2()\n",
        "    if(u*c<=f2(x)):\n",
        "      iter.append(counter)\n",
        "      rx.append(x)\n",
        "      break\n",
        "    else:\n",
        "      counter+=1\n",
        "\n",
        "nprx=np.array(rx)\n",
        "npiter=np.array(iter)\n",
        "print(\"mean:\"+str(nprx.mean()))\n",
        "#print(.variance())\n",
        "print(\"average number of iterations:\"+str(npiter.mean()))\n",
        "print(c)\n",
        "\n",
        "ry=[]\n",
        "for i in range(10000):\n",
        "  ry.append(f2(rx[i]))\n",
        "plt.hist(nprx,bins=100,weights=np.full(10000,1/100))\n",
        "plt.scatter(rx,ry,color=\"red\")\n",
        "plt.show()\n",
        "plt.clf()"
      ],
      "metadata": {
        "colab": {
          "base_uri": "https://localhost:8080/",
          "height": 499
        },
        "id": "IodWi4zg8P2H",
        "outputId": "e8341b78-183b-4a12-ecbf-7ef98620ba6c"
      },
      "id": "IodWi4zg8P2H",
      "execution_count": 27,
      "outputs": [
        {
          "output_type": "stream",
          "name": "stdout",
          "text": [
            "mean:0.7730039613008958\n",
            "average number of iterations:3.1862\n",
            "3.23\n"
          ]
        },
        {
          "output_type": "display_data",
          "data": {
            "text/plain": [
              "<Figure size 640x480 with 1 Axes>"
            ],
            "image/png": "[encoded data removed]"
          },
          "metadata": {}
        },
        {
          "output_type": "display_data",
          "data": {
            "text/plain": [
              "<Figure size 640x480 with 0 Axes>"
            ]
          },
          "metadata": {}
        }
      ]
    },
    {
      "cell_type": "code",
      "source": [
        "print(f2(1))"
      ],
      "metadata": {
        "colab": {
          "base_uri": "https://localhost:8080/"
        },
        "id": "mLzVDJhX-h4u",
        "outputId": "6a875b8d-ee58-402d-e94c-0a6fb372290a"
      },
      "id": "mLzVDJhX-h4u",
      "execution_count": 24,
      "outputs": [
        {
          "output_type": "stream",
          "name": "stdout",
          "text": [
            "0.5381708942328532\n"
          ]
        }
      ]
    },
    {
      "cell_type": "code",
      "source": [],
      "metadata": {
        "id": "pymNF8F1gMre"
      },
      "id": "pymNF8F1gMre",
      "execution_count": null,
      "outputs": []
    }
  ],
  "metadata": {
    "kernelspec": {
      "display_name": "Python 3 (ipykernel)",
      "language": "python",
      "name": "python3"
    },
    "language_info": {
      "codemirror_mode": {
        "name": "ipython",
        "version": 3
      },
      "file_extension": ".py",
      "mimetype": "text/x-python",
      "name": "python",
      "nbconvert_exporter": "python",
      "pygments_lexer": "ipython3",
      "version": "3.11.3"
    },
    "colab": {
      "provenance": []
    }
  },
  "nbformat": 4,
  "nbformat_minor": 5
}